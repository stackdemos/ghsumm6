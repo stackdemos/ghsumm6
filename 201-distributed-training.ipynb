{
 "cells": [
  {
   "cell_type": "markdown",
   "metadata": {},
   "source": [
    "# End to end experiment: Github Issue Summarization\n",
    "\n",
    "Currently, this notebook must be run from the Kubeflow JupyterHub installation, as described in the codelab.\n",
    "\n",
    "In this notebook, we will show how to:\n",
    "\n",
    "* Interactively define a KubeFlow Pipeline using the Pipelines Python SDK\n",
    "* Submit and run the pipeline\n",
    "* Add a step in the pipeline\n",
    "\n",
    "This example pipeline trains a [Tensor2Tensor](https://github.com/tensorflow/tensor2tensor/) model on Github issue data, learning to predict issue titles from issue bodies. It then exports the trained model and deploys the exported model to [Tensorflow Serving](https://github.com/tensorflow/serving). \n",
    "The final step in the pipeline launches a web app which interacts with the TF-Serving instance in order to get model predictions."
   ]
  },
  {
   "cell_type": "markdown",
   "metadata": {},
   "source": [
    "## Enviroinment Setup\n",
    "\n",
    "Before any experiment can be conducted. We need to setup and initialize an environment: ensure all Python modules has been setup and configured, as well as python modules\n",
    "\n",
    "### Imports\n",
    "Setting up python modules"
   ]
  },
  {
   "cell_type": "code",
   "execution_count": 4,
   "metadata": {
    "ExecuteTime": {
     "end_time": "2019-12-23T18:39:19.903989Z",
     "start_time": "2019-12-23T18:39:19.718909Z"
    },
    "scrolled": true
   },
   "outputs": [
    {
     "data": {
      "text/markdown": [
       "Loading notebook variables from configmap: `kubeflow/ghsumm6-nb-vars`"
      ],
      "text/plain": [
       "<IPython.core.display.Markdown object>"
      ]
     },
     "metadata": {},
     "output_type": "display_data"
    },
    {
     "data": {
      "text/markdown": [
       "All notebook variables has been already loaded"
      ],
      "text/plain": [
       "<IPython.core.display.Markdown object>"
      ]
     },
     "metadata": {},
     "output_type": "display_data"
    }
   ],
   "source": [
    "%reload_ext autoreload\n",
    "%autoreload 2\n",
    "\n",
    "%reload_ext nbextensions\n",
    "%load_nbvars\n",
    "\n",
    "import kfp.dsl as dsl\n",
    "import kfp.gcp as gcp\n",
    "import pandas as pd\n",
    "from ipython_secrets import get_secret\n",
    "from kfp.compiler import Compiler\n",
    "from kfp.components import load_component_from_file\n",
    "from os import environ\n",
    "import boto3, kfp\n",
    "\n",
    "from nbextensions.pv import use_pvc\n",
    "from nbextensions.kubernetes import dockerjson_pv\n",
    "from nbextensions.aws import upload_to_s3\n",
    "\n",
    "import nbextensions.utils as utils\n",
    "from datetime import datetime\n",
    "from urllib.parse import urlparse\n",
    "\n",
    "import warnings\n",
    "warnings.filterwarnings('ignore')"
   ]
  },
  {
   "cell_type": "markdown",
   "metadata": {},
   "source": [
    "### Define global variables\n",
    "\n",
    "Initialize global namespace variables. It is a good practice to place all global namespace variables in one cell. So, the notebook could be configured all-at-once. \n",
    "\n",
    "To enhance readability we would advice to capitalize such variables."
   ]
  },
  {
   "cell_type": "code",
   "execution_count": 5,
   "metadata": {
    "ExecuteTime": {
     "end_time": "2019-12-23T18:39:21.295442Z",
     "start_time": "2019-12-23T18:39:21.137481Z"
    },
    "code_folding": [],
    "run_control": {
     "marked": true
    }
   },
   "outputs": [
    {
     "data": {
      "text/html": [
       "Experiment link <a href=\"/pipeline/#/experiments/details/fca21b9c-0293-44d5-9524-ea1718feaf30\" target=\"_blank\" >here</a>"
      ],
      "text/plain": [
       "<IPython.core.display.HTML object>"
      ]
     },
     "metadata": {},
     "output_type": "display_data"
    }
   ],
   "source": [
    "USER = environ.get('NB_USER', 'John Doe')\n",
    "TAG = 'latest'\n",
    "# TAG = 'v8'\n",
    "\n",
    "BUILD_CONTEXT = f\"{TAG}/buildcontext\"\n",
    "TRAINING_IMAGE = f\"{DOCKER_REGISTRY}/training:{TAG}\"\n",
    "SERVING_IMAGE = f\"{DOCKER_REGISTRY}/seldon:{TAG}\"\n",
    "FLASK_APP_IMAGE = f\"{DOCKER_REGISTRY}/flask:{TAG}\"\n",
    "TRAINING_ROOT = f\"{MOUNT_PATH}/{TAG}/training\"\n",
    "\n",
    "DATASET_FILE = f\"{TRAINING_ROOT}/dataset.csv\"\n",
    "MODEL_FILE = f\"{TRAINING_ROOT}/training1.h5\"\n",
    "TITLE_PP_FILE = f\"{TRAINING_ROOT}/title_preprocessor.dpkl\"\n",
    "BODY_PP_FILE = f\"{TRAINING_ROOT}/body_preprocessor.dpkl\"\n",
    "TRAIN_DF_FILE = f\"{TRAINING_ROOT}/traindf.csv\"\n",
    "TEST_DF_FILE =  f\"{TRAINING_ROOT}/testdf.csv\"\n",
    "TRAIN_TITLE_VECS = f\"{TRAINING_ROOT}/train_title_vecs.npy\"\n",
    "TRAIN_BODY_VECS = f\"{TRAINING_ROOT}/train_body_vecs.npy\"\n",
    "\n",
    "s3 = boto3.session.Session().client('s3', endpoint_url=BUCKET_ENDPOINT)\n",
    "\n",
    "client = kfp.Client()\n",
    "try:\n",
    "    exp = client.get_experiment(experiment_name=APPLICATION_NAME)\n",
    "except:\n",
    "    exp = client.create_experiment(APPLICATION_NAME)"
   ]
  },
  {
   "cell_type": "markdown",
   "metadata": {},
   "source": [
    "### Define build docker image pipeline\n",
    "\n",
    "Define build pipeline. Yes, we arguably using KFP to build images  that will be de-facto used by final pipeline.\n",
    "\n",
    "We use [Kaniko](https://github.com/GoogleContainerTools/kaniko) and Kubernetes to handle build operations. Build status can be tracked via KFP pipeline dashboard\n",
    "\n",
    "In fact build image job can be even combined with primary pipeline as physically it will be different Kubernetes pods. However for sake of general purpose efficiency we schedule build process via separate pipeline step"
   ]
  },
  {
   "cell_type": "code",
   "execution_count": 6,
   "metadata": {
    "ExecuteTime": {
     "end_time": "2019-12-23T18:39:23.732192Z",
     "start_time": "2019-12-23T18:39:23.622423Z"
    }
   },
   "outputs": [],
   "source": [
    "kaniko_op = load_component_from_file('components/kaniko/deploy.yaml')\n",
    "\n",
    "@dsl.pipeline(\n",
    "  name='Pipeline images',\n",
    "  description='Build images that will be used by the pipeline'\n",
    ")\n",
    "def build_image(\n",
    "        image, \n",
    "        context=None, \n",
    "        dockerfile: dsl.PipelineParam=dsl.PipelineParam(name='dockerfile', value='Dockerfile')):\n",
    "    dockerjson = dockerjson_pv(pull_secret=DOCKER_REGISTRY_PULL_SECRET)\n",
    "    kaniko_op(\n",
    "        image=image,\n",
    "        dockerfile=dockerfile,\n",
    "        context=context\n",
    "    ).add_pvolumes({\n",
    "        '/mnt/s3': dsl.PipelineVolume(pvc=BUCKET_PVC),\n",
    "        '/kaniko/.docker': dsl.PipelineVolume(volume=dockerjson),\n",
    "    })\n",
    "        \n",
    "Compiler().compile(build_image, 'argo-kaniko.yaml')\n",
    "utils.patch_pvolumes('argo-kaniko.yaml')"
   ]
  },
  {
   "cell_type": "markdown",
   "metadata": {},
   "source": [
    "Compiler transforms Python DSL into an [Argo Workflow](https://argoproj.github.io/docs/argo/readme.html). And stores generated artifacts in [`.kaniko.tar.gz`](.kaniko.tar.gz). So it could be executed multiple times. Perhaps with different parameters"
   ]
  },
  {
   "cell_type": "markdown",
   "metadata": {},
   "source": [
    "## Distributed Training\n",
    "Training is an integral part of our experiment. Distributed training means that it will be executed outside of a Jupyter Notebook and utilize maximum capacity of the current cluster. To achieve this we need to perform following actions:\n",
    "* Build a dokcer image for training\n",
    "* Define a training pipeline\n",
    "* Run the experiment\n",
    "\n",
    "### Building a training image\n",
    "Once pipeline has been defined we can reuse it multiple times by supplying different input parameters.\n",
    "\n",
    "Next section will upload all files to s3, to share access with the pipeline. Files that should be ignored can be customized in [kanikoignore.txt](./kanikoignore.txt). To understand upload scenario you can review and modify: [aws.py](./extensions/kaniko/aws.py)"
   ]
  },
  {
   "cell_type": "code",
   "execution_count": 7,
   "metadata": {
    "ExecuteTime": {
     "end_time": "2019-12-23T18:39:27.555194Z",
     "start_time": "2019-12-23T18:39:26.686719Z"
    }
   },
   "outputs": [
    {
     "data": {
      "text/html": [
       "Uploaded <a href=\"https://ml1-minio.app.ml1.demo05.superhub.io/minio/default/latest/buildcontext/\" target=\"_blank\" >\"70 files\"</a>; transferred: 118.2 KB"
      ],
      "text/plain": [
       "<IPython.core.display.HTML object>"
      ]
     },
     "metadata": {},
     "output_type": "display_data"
    },
    {
     "data": {
      "text/html": [
       "Run link <a href=\"/pipeline/#/runs/details/8c88f6f5-25b3-11ea-be37-12c28480d231\" target=\"_blank\" >here</a>"
      ],
      "text/plain": [
       "<IPython.core.display.HTML object>"
      ]
     },
     "metadata": {},
     "output_type": "display_data"
    }
   ],
   "source": [
    "upload_to_s3(\n",
    "    destination=f\"s3://{BUCKET_NAME}/{BUILD_CONTEXT}\",\n",
    "    ignorefile='components/kaniko/ignorefile.txt',\n",
    "    workspace='.',\n",
    "    s3_client=s3\n",
    ")\n",
    "\n",
    "run = client.run_pipeline(\n",
    "    exp.id, f'Build image: training:{TAG}', 'argo-kaniko.yaml', \n",
    "    params={\n",
    "        'image': TRAINING_IMAGE,\n",
    "        'context': f\"{MOUNT_PATH}/{BUILD_CONTEXT}/components/training\"\n",
    "    })"
   ]
  },
  {
   "cell_type": "markdown",
   "metadata": {},
   "source": [
    "Build process can be long a long term. Because often images that has been used for data science tasks are huge. In this case you might want to adjust `timeout` parameter"
   ]
  },
  {
   "cell_type": "code",
   "execution_count": null,
   "metadata": {},
   "outputs": [],
   "source": [
    "%%time\n",
    "# block until job completion\n",
    "print(f\"Waiting for run: {run.id}...\")\n",
    "result = client.wait_for_run_completion(run.id, timeout=720).run.status\n",
    "print(f\"Finished with: {result}\")"
   ]
  },
  {
   "cell_type": "markdown",
   "metadata": {},
   "source": [
    "### Define Pipeline\n",
    "We have extracted code for training pipeline into a [component](components/training). Python code that defines `training_op` as well as a `http_download_op` can be found [here](components/training/component.py)\n",
    "\n",
    "Below we will define a pipeline that will run the training pipeline as an experimnet. This pipeline will do the following. Every training operation (except download) will be encapsulated by the python script. You can change the scripts at your will however, you will need to rebuild a training image.\n",
    "\n",
    "* Download dataset from http \n",
    "* Split data into sample and test. It can also put a rownum limit into a dataset to increase feedback\n",
    "* Preprocess data for machine learning (clean, tokenize and transform text into vector)\n",
    "* Apply sequence to sequence training with Keras. By the completion trained model will be uplooaded into s3 bucket "
   ]
  },
  {
   "cell_type": "code",
   "execution_count": 8,
   "metadata": {
    "ExecuteTime": {
     "end_time": "2019-12-23T18:49:57.536672Z",
     "start_time": "2019-12-23T18:49:57.368247Z"
    }
   },
   "outputs": [],
   "source": [
    "from components.training import (http_download_op, training_op)\n",
    "\n",
    "@dsl.pipeline(\n",
    "  name='Training',\n",
    "  description=\"\"\"\n",
    "  Download dataset, \n",
    "  Split data set for training and validation, \n",
    "  Clean and preprocess data, \n",
    "  Train the model\n",
    "  \"\"\"\n",
    ")\n",
    "def training_pipeline(\n",
    "    importFrom: dsl.PipelineParam, \n",
    "    datasetFile: dsl.PipelineParam,\n",
    "    datasetMD5: dsl.PipelineParam,\n",
    "    trainDfFile: dsl.PipelineParam,\n",
    "    testDfFile: dsl.PipelineParam,\n",
    "    titlePPFile: dsl.PipelineParam,\n",
    "    bodyPPFile: dsl.PipelineParam,\n",
    "    trainTitleVecs: dsl.PipelineParam,\n",
    "    trainBodyVecs: dsl.PipelineParam,\n",
    "    modelFile: dsl.PipelineParam,\n",
    "    sampleSize: dsl.PipelineParam=dsl.PipelineParam(name='sample-size', value='200'),\n",
    "    learningRate: dsl.PipelineParam=dsl.PipelineParam(name='learning-rate', value=0.001),\n",
    "):  \n",
    "    download = http_download_op(\n",
    "        url=importFrom,\n",
    "        md5sum=datasetMD5,\n",
    "        download_to=datasetFile\n",
    "    ).add_pvolumes({\n",
    "        '/mnt/s3': dsl.PipelineVolume(pvc=BUCKET_PVC)\n",
    "    })\n",
    "    \n",
    "    # Generates the training and test set. Only processes \"sample-size\" rows.\n",
    "    process = training_op(\n",
    "        script='process_data.py',\n",
    "        arguments=[\n",
    "            '--input_csv', datasetFile,\n",
    "            '--sample_size', sampleSize,\n",
    "            '--output_traindf_csv', trainDfFile, \n",
    "            '--output_testdf_csv', testDfFile,\n",
    "        ]\n",
    "    ).add_pvolumes({\n",
    "        '/mnt/s3': dsl.PipelineVolume(pvc=BUCKET_PVC)\n",
    "    }).after(download)\n",
    "    \n",
    "    # Preprocess for deep learning\n",
    "    preproc_for_ml = training_op(\n",
    "        script='preproc.py',\n",
    "        arguments=[\n",
    "            '--input_traindf_csv', trainDfFile,\n",
    "            '--output_title_preprocessor_dpkl', titlePPFile,\n",
    "            '--output_body_preprocessor_dpkl', bodyPPFile,\n",
    "            '--output_train_title_vecs_npy', trainTitleVecs,\n",
    "            '--output_train_body_vecs_npy', trainBodyVecs,\n",
    "        ],\n",
    "        file_outputs={\n",
    "            'title-example': '/tmp/train_title_raw.txt',\n",
    "            'title-processed': '/tmp/train_title_vecs.txt',\n",
    "            'body-example': '/tmp/train_body_raw.txt',\n",
    "            'body-processed': '/tmp/train_body_vecs.txt',\n",
    "        }\n",
    "    ).add_pvolumes({\n",
    "        '/mnt/s3': dsl.PipelineVolume(pvc=BUCKET_PVC)\n",
    "    }).after(process)\n",
    "    \n",
    "    # Training\n",
    "    training = training_op(\n",
    "        script='train.py',\n",
    "        arguments=[\n",
    "            '--input_title_preprocessor_dpkl', titlePPFile,\n",
    "            '--input_body_preprocessor_dpkl', bodyPPFile,\n",
    "            '--input_train_title_vecs_npy', trainTitleVecs,\n",
    "            '--input_train_body_vecs_npy', trainBodyVecs,\n",
    "            '--script_name_base', '/tmp/seq2seq',\n",
    "            '--output_model_h5', modelFile,\n",
    "            '--learning_rate', learningRate,\n",
    "           '--tempfile', \"True\",\n",
    "        ],\n",
    "        file_outputs={'train': '/tmp/seq2seq.log'},\n",
    "    ).add_pvolumes({\n",
    "        '/mnt/s3': dsl.PipelineVolume(pvc=BUCKET_PVC)\n",
    "    }).after(preproc_for_ml)\n",
    "\n",
    "Compiler().compile(training_pipeline, 'argo-distr-training.yaml')\n",
    "utils.patch_pvolumes('argo-distr-training.yaml')"
   ]
  },
  {
   "cell_type": "markdown",
   "metadata": {},
   "source": [
    "### Run the pipeline\n",
    "\n",
    "Code below will run a pipeline and inject some pipeline parameters. Here we provide two versions of data sets\n",
    "* `SAMPLE_DATA_SET` - Data set that has just over 2 megabytes. Not enough for sufficient training. However ideal for development, because of faster feedback.\n",
    "* `FULL_DATA_SET` - Precreated data set with all github issues. 3 gigabytes. Good enough for sufficient model\n",
    "\n",
    "Depending on your needs you can choose one or another data set and pass it as a pipeline parameter `data-set`"
   ]
  },
  {
   "cell_type": "code",
   "execution_count": 9,
   "metadata": {
    "ExecuteTime": {
     "end_time": "2019-12-23T18:49:59.136034Z",
     "start_time": "2019-12-23T18:49:59.007654Z"
    }
   },
   "outputs": [
    {
     "data": {
      "text/html": [
       "Run link <a href=\"/pipeline/#/runs/details/04fbbaf8-25b5-11ea-be37-12c28480d231\" target=\"_blank\" >here</a>"
      ],
      "text/plain": [
       "<IPython.core.display.HTML object>"
      ]
     },
     "metadata": {},
     "output_type": "display_data"
    }
   ],
   "source": [
    "# github issues small: 2Mi data set (best for dev/test)\n",
    "SAMPLE_DATASET = 'https://s3.us-east-2.amazonaws.com/asi-kubeflow-models/gh-issues/data-sample.csv'\n",
    "SAMPLE_DATASET_MD5 = '916af946f2fe1d1779b26205d4d8378f'\n",
    "# data set for 3Gi. (best for training)\n",
    "FULL_DATASET = 'https://s3.us-east-2.amazonaws.com/asi-kubeflow-models/gh-issues/data-full.csv'\n",
    "FULL_DATASET_MD5 = '57dc987c04d41a94d0d9daf4d0ebf8ba'\n",
    "\n",
    "run = client.run_pipeline(exp.id, f'Training model {TAG}: {datetime.now():%m%d-%H%M}', 'argo-distr-training.yaml',\n",
    "                          params={\n",
    "                              'importFrom': SAMPLE_DATASET,\n",
    "                              'datasetMD5': SAMPLE_DATASET_MD5,\n",
    "                              'datasetFile': DATASET_FILE,\n",
    "                              'titlePPFile': TITLE_PP_FILE,\n",
    "                              'bodyPPFile': BODY_PP_FILE,\n",
    "                              'trainDfFile': TRAIN_DF_FILE,\n",
    "                              'testDfFile': TEST_DF_FILE,\n",
    "                              'trainTitleVecs': TRAIN_TITLE_VECS,\n",
    "                              'trainBodyVecs': TRAIN_BODY_VECS,\n",
    "                              'modelFile': MODEL_FILE,\n",
    "                              'learningRate': 0.001,\n",
    "                              'sampleSize': 100,\n",
    "                          })"
   ]
  },
  {
   "cell_type": "code",
   "execution_count": 10,
   "metadata": {
    "ExecuteTime": {
     "end_time": "2019-12-23T19:11:50.520556Z",
     "start_time": "2019-12-23T19:11:45.445952Z"
    }
   },
   "outputs": [
    {
     "name": "stdout",
     "output_type": "stream",
     "text": [
      "Waiting for run: 04fbbaf8-25b5-11ea-be37-12c28480d231...\n",
      "Finished with: Succeeded\n",
      "CPU times: user 5.17 ms, sys: 3.15 ms, total: 8.31 ms\n",
      "Wall time: 5.01 s\n"
     ]
    }
   ],
   "source": [
    "%%time\n",
    "# block until job completion\n",
    "print(f\"Waiting for run: {run.id}...\")\n",
    "result = client.wait_for_run_completion(run.id, timeout=720).run.status\n",
    "print(f\"Finished with: {result}\")"
   ]
  },
  {
   "cell_type": "markdown",
   "metadata": {},
   "source": [
    "## Serving with Seldon\n",
    "Prepping a container for serving. \n",
    "\n",
    "Here we define all variables that will be needed for our dockerfile tempalte. \n",
    "\n",
    "- `MODEL_WRAPPER`: is a name of a python class that adapts keras model for serving\n",
    "- `MODEL_NAME`: used in seldon deployment\n",
    "- `MODEL_VERSION`: one model can be served multiple times with different versions simulteniously\n",
    "- `SELDON_DEPLOYMENT`: name of kubernetes resource\n",
    "- `SELDON_OAUTH_KEY`: part of shared secret between `SeldonDeployment` and a client application\n",
    "- `SELDON_OAUTH_SECRET`: part of shared secret between `SeldonDeployment` and a client application\n",
    "- `REPLICAS`: number of replicas for `SeldonDeployment` pod"
   ]
  },
  {
   "cell_type": "code",
   "execution_count": 11,
   "metadata": {
    "ExecuteTime": {
     "end_time": "2019-12-23T19:12:00.499040Z",
     "start_time": "2019-12-23T19:11:53.719388Z"
    }
   },
   "outputs": [],
   "source": [
    "import re\n",
    "\n",
    "MODEL_WRAPPER = 'IssueSummarizationModel'\n",
    "MODEL_NAME = re.sub(r'\\W+', '-', MODEL_WRAPPER).lower()\n",
    "MODEL_VERSION = TAG\n",
    "SELDON_DEPLOYMENT = f\"{MODEL_NAME}-{MODEL_VERSION}\"\n",
    "# here we hash a information about model, so it would be predictable\n",
    "SELDON_OAUTH_KEY = utils.sha1(MODEL_NAME, MODEL_VERSION, NAMESPACE)\n",
    "# for secure secret we will use hash of user defined shared secret salted with OAUTH_KEY\n",
    "SELDON_OAUTH_SECRET = utils.sha1(SELDON_OAUTH_KEY, get_secret('USER_SECRET_FOR_MODEL'))\n",
    "SELDON_APISERVER_ADDR=f\"seldon-seldon-apiserver.{NAMESPACE}:8080\"\n",
    "\n",
    "SELDON_DEPLOYMENT_REPLICAS = 1"
   ]
  },
  {
   "cell_type": "markdown",
   "metadata": {},
   "source": [
    "### Building a serving image\n",
    "\n",
    "`SeldonDeployment` needs a docker image that contains a model wrapper written in (but not limited) Python\n",
    "\n",
    "This step will build a container and serve it"
   ]
  },
  {
   "cell_type": "code",
   "execution_count": 12,
   "metadata": {
    "ExecuteTime": {
     "end_time": "2019-12-23T19:12:07.904524Z",
     "start_time": "2019-12-23T19:12:07.836811Z"
    }
   },
   "outputs": [
    {
     "data": {
      "text/html": [
       "<a href='components/serving/Dockerfile' target='_blank'>components/serving/Dockerfile</a><br>"
      ],
      "text/plain": [
       "/home/jovyan/.git-sync/rev-e8b61b209e9955f82bc16181d2f21ce530cbb0ca/components/serving/Dockerfile"
      ]
     },
     "metadata": {},
     "output_type": "display_data"
    }
   ],
   "source": [
    "%%template components/serving/Dockerfile\n",
    "FROM seldonio/seldon-core-s2i-python3\n",
    "\n",
    "FROM {{TRAINING_IMAGE}}\n",
    "RUN pip3 install --no-cache-dir -U 'seldon-core'\n",
    "\n",
    "COPY --from=0 /microservice /microservice\n",
    "COPY src/serving.py /microservice/{{MODEL_WRAPPER}}.py\n",
    "COPY src/seq2seq_utils.py /microservice\n",
    "COPY src/text_utils.py /microservice\n",
    "\n",
    "WORKDIR /microservice\n",
    "ENTRYPOINT [\"python\",\"-u\",\"microservice.py\"]\n",
    "CMD [\"{{MODEL_WRAPPER}}\", \"REST\"]"
   ]
  },
  {
   "cell_type": "markdown",
   "metadata": {},
   "source": [
    "To be able to serve trained model we build an image with our serving microservice. To achieve this we reuse our kaniko pipeline defined above"
   ]
  },
  {
   "cell_type": "code",
   "execution_count": 13,
   "metadata": {
    "ExecuteTime": {
     "end_time": "2019-12-23T19:12:10.168157Z",
     "start_time": "2019-12-23T19:12:09.906716Z"
    }
   },
   "outputs": [
    {
     "data": {
      "text/html": [
       "Uploaded <a href=\"https://ml1-minio.app.ml1.demo05.superhub.io/minio/default/latest/buildcontext/\" target=\"_blank\" >\"4 files\"</a>; transferred: 10.05 KB"
      ],
      "text/plain": [
       "<IPython.core.display.HTML object>"
      ]
     },
     "metadata": {},
     "output_type": "display_data"
    },
    {
     "data": {
      "text/html": [
       "Run link <a href=\"/pipeline/#/runs/details/1e57f49d-25b8-11ea-be37-12c28480d231\" target=\"_blank\" >here</a>"
      ],
      "text/plain": [
       "<IPython.core.display.HTML object>"
      ]
     },
     "metadata": {},
     "output_type": "display_data"
    }
   ],
   "source": [
    "upload_to_s3(\n",
    "    destination=f\"s3://{BUCKET_NAME}/{BUILD_CONTEXT}\",\n",
    "    ignorefile='components/kaniko/ignorefile.txt',\n",
    "    workspace='.',\n",
    "    s3_client=s3,\n",
    ")\n",
    "\n",
    "run = client.run_pipeline(exp.id, f'Build image: serving:{TAG}', 'argo-kaniko.yaml', \n",
    "                          params={\n",
    "                              'image': SERVING_IMAGE,\n",
    "                              'context': f\"{MOUNT_PATH}/{BUILD_CONTEXT}/components/serving\"\n",
    "                          })"
   ]
  },
  {
   "cell_type": "code",
   "execution_count": 14,
   "metadata": {
    "ExecuteTime": {
     "end_time": "2019-12-23T19:14:57.761539Z",
     "start_time": "2019-12-23T19:12:12.326885Z"
    }
   },
   "outputs": [
    {
     "name": "stdout",
     "output_type": "stream",
     "text": [
      "Waiting for run: 1e57f49d-25b8-11ea-be37-12c28480d231...\n",
      "Finished with: Succeeded\n",
      "CPU times: user 155 ms, sys: 26.7 ms, total: 182 ms\n",
      "Wall time: 2min 45s\n"
     ]
    }
   ],
   "source": [
    "%%time\n",
    "# block until job completion\n",
    "print(f\"Waiting for run: {run.id}...\")\n",
    "result = client.wait_for_run_completion(run.id, timeout=720).run.status\n",
    "print(f\"Finished with: {result}\")"
   ]
  },
  {
   "cell_type": "markdown",
   "metadata": {},
   "source": [
    "### Serve model\n",
    "\n",
    "Then we render our `SeldonDeployment` template and deploy it with `kubectl`, similar as we have done before with `pvc` definition. Here we define reference to the model that will be used for serving"
   ]
  },
  {
   "cell_type": "code",
   "execution_count": 15,
   "metadata": {
    "ExecuteTime": {
     "end_time": "2019-12-23T19:22:27.876313Z",
     "start_time": "2019-12-23T19:22:25.805475Z"
    }
   },
   "outputs": [
    {
     "data": {
      "text/html": [
       "<a href='seldon.yaml' target='_blank'>seldon.yaml</a><br>"
      ],
      "text/plain": [
       "/home/jovyan/.git-sync/rev-e8b61b209e9955f82bc16181d2f21ce530cbb0ca/seldon.yaml"
      ]
     },
     "metadata": {},
     "output_type": "display_data"
    },
    {
     "name": "stdout",
     "output_type": "stream",
     "text": [
      "seldondeployment.machinelearning.seldon.io/issuesummarizationmodel-latest created\r\n"
     ]
    }
   ],
   "source": [
    "%templatefile components/serving/templates/seldon.yaml -o seldon.yaml\n",
    "!kubectl apply -f seldon.yaml --wait\n",
    "!kubectl get -f seldon.yaml -o jsonpath='{.status.state}'"
   ]
  },
  {
   "cell_type": "markdown",
   "metadata": {},
   "source": [
    "### Validate\n",
    "\n",
    "It can take few minutes while a seldon applicaiton will be deployed. Once it will be deployed. Then we can send a test prediction\n",
    "\n",
    "Test model serving by accessing seldon api server. Because Seldon API server provides an oauth, we need to receive a temporrary bearer token. We can receive this token by providing oauth key and secret that has been used in our `SeldonDeployment`"
   ]
  },
  {
   "cell_type": "code",
   "execution_count": 16,
   "metadata": {
    "ExecuteTime": {
     "end_time": "2019-12-23T20:21:15.035013Z",
     "start_time": "2019-12-23T20:21:13.167680Z"
    },
    "code_folding": []
   },
   "outputs": [
    {
     "data": {
      "text/html": [
       "<div>\n",
       "<style scoped>\n",
       "    .dataframe tbody tr th:only-of-type {\n",
       "        vertical-align: middle;\n",
       "    }\n",
       "\n",
       "    .dataframe tbody tr th {\n",
       "        vertical-align: top;\n",
       "    }\n",
       "\n",
       "    .dataframe thead th {\n",
       "        text-align: right;\n",
       "    }\n",
       "</style>\n",
       "<table border=\"1\" class=\"dataframe\">\n",
       "  <thead>\n",
       "    <tr style=\"text-align: right;\">\n",
       "      <th></th>\n",
       "      <th>test</th>\n",
       "      <th>prediction</th>\n",
       "    </tr>\n",
       "  </thead>\n",
       "  <tbody>\n",
       "    <tr>\n",
       "      <th>0</th>\n",
       "      <td>try to stop flask from using multiple threads</td>\n",
       "      <td>_start_ _start_ _start_ _start_ _start_ _start_ _start_ _start_ _start_ _start_ _start_ _start_</td>\n",
       "    </tr>\n",
       "  </tbody>\n",
       "</table>\n",
       "</div>"
      ],
      "text/plain": [
       "                                            test  \\\n",
       "0  try to stop flask from using multiple threads   \n",
       "\n",
       "                                                                                        prediction  \n",
       "0  _start_ _start_ _start_ _start_ _start_ _start_ _start_ _start_ _start_ _start_ _start_ _start_  "
      ]
     },
     "metadata": {},
     "output_type": "display_data"
    }
   ],
   "source": [
    "from IPython.display import Code\n",
    "import nbextensions.seldon as seldon\n",
    "\n",
    "test_payload = {\n",
    "    \"data\":{\"ndarray\": [[\"try to stop flask from using multiple threads\"]]},\n",
    "}\n",
    "                         \n",
    "t = seldon.get_token(\n",
    "    server=SELDON_APISERVER_ADDR,\n",
    "    oauth_key=SELDON_OAUTH_KEY,\n",
    "    oauth_secret=SELDON_OAUTH_SECRET,\n",
    ")\n",
    "result = seldon.prediction(\n",
    "    server=SELDON_APISERVER_ADDR,\n",
    "    payload=test_payload,\n",
    "    token=t,\n",
    ")\n",
    "if result.get('status') == 'FAILURE':\n",
    "    print(\"Error connecting to seldon core.\", \n",
    "          \"This may happen when Seldon has not been up and running yet.\",\n",
    "          \"Try again later\")\n",
    "    display(Code(f\"{result.get('reason')}: {result.get('info')}\"))\n",
    "else:\n",
    "    display(\n",
    "        pd.DataFrame.from_dict({\n",
    "            'test': test_payload['data']['ndarray'][0],\n",
    "            'prediction': result['data']['ndarray'][0],\n",
    "    }))\n"
   ]
  },
  {
   "cell_type": "markdown",
   "metadata": {},
   "source": [
    "## Deploy a client application\n",
    "\n",
    "This section will be focused on application deployment routines.\n",
    "- `FLASK_APP`: name of the kubernetes deployment associated with the applicaiton\n",
    "- `FLASK_REPLICAS`: number of replicas for application deployment pod\n",
    "- `GITHUB_TOKEN`: Github Token to access Github API. This will help application to fetch a random github issue"
   ]
  },
  {
   "cell_type": "code",
   "execution_count": 17,
   "metadata": {
    "ExecuteTime": {
     "end_time": "2019-12-23T20:21:17.306177Z",
     "start_time": "2019-12-23T20:21:17.221583Z"
    }
   },
   "outputs": [],
   "source": [
    "FLASK_APP=APPLICATION_NAME\n",
    "FLASK_REPLICAS = 1\n",
    "GITHUB_TOKEN=get_secret('github_token')"
   ]
  },
  {
   "cell_type": "markdown",
   "metadata": {},
   "source": [
    "### Building an application container\n",
    "\n",
    "User application has been implemented inside [app.py](components/flaskapp/src/app.py). We bake this applicaiton inside of docker container and deploy it further"
   ]
  },
  {
   "cell_type": "code",
   "execution_count": 18,
   "metadata": {
    "ExecuteTime": {
     "end_time": "2019-12-23T20:21:19.605661Z",
     "start_time": "2019-12-23T20:21:19.236917Z"
    }
   },
   "outputs": [
    {
     "data": {
      "text/html": [
       "<a href='components/flaskapp/Dockerfile' target='_blank'>components/flaskapp/Dockerfile</a><br>"
      ],
      "text/plain": [
       "/home/jovyan/.git-sync/rev-e8b61b209e9955f82bc16181d2f21ce530cbb0ca/components/flaskapp/Dockerfile"
      ]
     },
     "metadata": {},
     "output_type": "display_data"
    },
    {
     "data": {
      "text/html": [
       "<style>.output_html .hll { background-color: #ffffcc }\n",
       ".output_html  { background: #f8f8f8; }\n",
       ".output_html .c { color: #408080; font-style: italic } /* Comment */\n",
       ".output_html .err { border: 1px solid #FF0000 } /* Error */\n",
       ".output_html .k { color: #008000; font-weight: bold } /* Keyword */\n",
       ".output_html .o { color: #666666 } /* Operator */\n",
       ".output_html .ch { color: #408080; font-style: italic } /* Comment.Hashbang */\n",
       ".output_html .cm { color: #408080; font-style: italic } /* Comment.Multiline */\n",
       ".output_html .cp { color: #BC7A00 } /* Comment.Preproc */\n",
       ".output_html .cpf { color: #408080; font-style: italic } /* Comment.PreprocFile */\n",
       ".output_html .c1 { color: #408080; font-style: italic } /* Comment.Single */\n",
       ".output_html .cs { color: #408080; font-style: italic } /* Comment.Special */\n",
       ".output_html .gd { color: #A00000 } /* Generic.Deleted */\n",
       ".output_html .ge { font-style: italic } /* Generic.Emph */\n",
       ".output_html .gr { color: #FF0000 } /* Generic.Error */\n",
       ".output_html .gh { color: #000080; font-weight: bold } /* Generic.Heading */\n",
       ".output_html .gi { color: #00A000 } /* Generic.Inserted */\n",
       ".output_html .go { color: #888888 } /* Generic.Output */\n",
       ".output_html .gp { color: #000080; font-weight: bold } /* Generic.Prompt */\n",
       ".output_html .gs { font-weight: bold } /* Generic.Strong */\n",
       ".output_html .gu { color: #800080; font-weight: bold } /* Generic.Subheading */\n",
       ".output_html .gt { color: #0044DD } /* Generic.Traceback */\n",
       ".output_html .kc { color: #008000; font-weight: bold } /* Keyword.Constant */\n",
       ".output_html .kd { color: #008000; font-weight: bold } /* Keyword.Declaration */\n",
       ".output_html .kn { color: #008000; font-weight: bold } /* Keyword.Namespace */\n",
       ".output_html .kp { color: #008000 } /* Keyword.Pseudo */\n",
       ".output_html .kr { color: #008000; font-weight: bold } /* Keyword.Reserved */\n",
       ".output_html .kt { color: #B00040 } /* Keyword.Type */\n",
       ".output_html .m { color: #666666 } /* Literal.Number */\n",
       ".output_html .s { color: #BA2121 } /* Literal.String */\n",
       ".output_html .na { color: #7D9029 } /* Name.Attribute */\n",
       ".output_html .nb { color: #008000 } /* Name.Builtin */\n",
       ".output_html .nc { color: #0000FF; font-weight: bold } /* Name.Class */\n",
       ".output_html .no { color: #880000 } /* Name.Constant */\n",
       ".output_html .nd { color: #AA22FF } /* Name.Decorator */\n",
       ".output_html .ni { color: #999999; font-weight: bold } /* Name.Entity */\n",
       ".output_html .ne { color: #D2413A; font-weight: bold } /* Name.Exception */\n",
       ".output_html .nf { color: #0000FF } /* Name.Function */\n",
       ".output_html .nl { color: #A0A000 } /* Name.Label */\n",
       ".output_html .nn { color: #0000FF; font-weight: bold } /* Name.Namespace */\n",
       ".output_html .nt { color: #008000; font-weight: bold } /* Name.Tag */\n",
       ".output_html .nv { color: #19177C } /* Name.Variable */\n",
       ".output_html .ow { color: #AA22FF; font-weight: bold } /* Operator.Word */\n",
       ".output_html .w { color: #bbbbbb } /* Text.Whitespace */\n",
       ".output_html .mb { color: #666666 } /* Literal.Number.Bin */\n",
       ".output_html .mf { color: #666666 } /* Literal.Number.Float */\n",
       ".output_html .mh { color: #666666 } /* Literal.Number.Hex */\n",
       ".output_html .mi { color: #666666 } /* Literal.Number.Integer */\n",
       ".output_html .mo { color: #666666 } /* Literal.Number.Oct */\n",
       ".output_html .sa { color: #BA2121 } /* Literal.String.Affix */\n",
       ".output_html .sb { color: #BA2121 } /* Literal.String.Backtick */\n",
       ".output_html .sc { color: #BA2121 } /* Literal.String.Char */\n",
       ".output_html .dl { color: #BA2121 } /* Literal.String.Delimiter */\n",
       ".output_html .sd { color: #BA2121; font-style: italic } /* Literal.String.Doc */\n",
       ".output_html .s2 { color: #BA2121 } /* Literal.String.Double */\n",
       ".output_html .se { color: #BB6622; font-weight: bold } /* Literal.String.Escape */\n",
       ".output_html .sh { color: #BA2121 } /* Literal.String.Heredoc */\n",
       ".output_html .si { color: #BB6688; font-weight: bold } /* Literal.String.Interpol */\n",
       ".output_html .sx { color: #008000 } /* Literal.String.Other */\n",
       ".output_html .sr { color: #BB6688 } /* Literal.String.Regex */\n",
       ".output_html .s1 { color: #BA2121 } /* Literal.String.Single */\n",
       ".output_html .ss { color: #19177C } /* Literal.String.Symbol */\n",
       ".output_html .bp { color: #008000 } /* Name.Builtin.Pseudo */\n",
       ".output_html .fm { color: #0000FF } /* Name.Function.Magic */\n",
       ".output_html .vc { color: #19177C } /* Name.Variable.Class */\n",
       ".output_html .vg { color: #19177C } /* Name.Variable.Global */\n",
       ".output_html .vi { color: #19177C } /* Name.Variable.Instance */\n",
       ".output_html .vm { color: #19177C } /* Name.Variable.Magic */\n",
       ".output_html .il { color: #666666 } /* Literal.Number.Integer.Long */</style><div class=\"highlight\"><pre><span></span>FROM ml1-harbor.svc.ml1.demo05.superhub.io/library/training:latest\n",
       "RUN pip3 install --no-cache-dir -U &#39;flask&gt;=0.12.3&#39;\n",
       "COPY src/ /app\n",
       "WORKDIR /app\n",
       "ENTRYPOINT [&quot;python&quot;,&quot;-u&quot;,&quot;app.py&quot;]\n",
       "</pre></div>\n"
      ],
      "text/latex": [
       "\\begin{Verbatim}[commandchars=\\\\\\{\\}]\n",
       "FROM ml1\\PYZhy{}harbor.svc.ml1.demo05.superhub.io/library/training:latest\n",
       "RUN pip3 install \\PYZhy{}\\PYZhy{}no\\PYZhy{}cache\\PYZhy{}dir \\PYZhy{}U \\PYZsq{}flask\\PYZgt{}=0.12.3\\PYZsq{}\n",
       "COPY src/ /app\n",
       "WORKDIR /app\n",
       "ENTRYPOINT [\\PYZdq{}python\\PYZdq{},\\PYZdq{}\\PYZhy{}u\\PYZdq{},\\PYZdq{}app.py\\PYZdq{}]\n",
       "\\end{Verbatim}\n"
      ],
      "text/plain": [
       "FROM ml1-harbor.svc.ml1.demo05.superhub.io/library/training:latest\n",
       "RUN pip3 install --no-cache-dir -U 'flask>=0.12.3'\n",
       "COPY src/ /app\n",
       "WORKDIR /app\n",
       "ENTRYPOINT [\"python\",\"-u\",\"app.py\"]"
      ]
     },
     "metadata": {},
     "output_type": "display_data"
    }
   ],
   "source": [
    "%%template components/flaskapp/Dockerfile -v\n",
    "FROM {{TRAINING_IMAGE}}\n",
    "RUN pip3 install --no-cache-dir -U 'flask>=0.12.3'\n",
    "COPY src/ /app\n",
    "WORKDIR /app\n",
    "ENTRYPOINT [\"python\",\"-u\",\"app.py\"]"
   ]
  },
  {
   "cell_type": "code",
   "execution_count": 19,
   "metadata": {
    "ExecuteTime": {
     "end_time": "2019-12-23T20:21:21.570339Z",
     "start_time": "2019-12-23T20:21:21.310167Z"
    }
   },
   "outputs": [
    {
     "data": {
      "text/html": [
       "Uploaded <a href=\"https://ml1-minio.app.ml1.demo05.superhub.io/minio/default/latest/buildcontext/\" target=\"_blank\" >\"3 files\"</a>; transferred: 2.64 KB"
      ],
      "text/plain": [
       "<IPython.core.display.HTML object>"
      ]
     },
     "metadata": {},
     "output_type": "display_data"
    },
    {
     "data": {
      "text/html": [
       "Run link <a href=\"/pipeline/#/runs/details/c8c52ae4-25c1-11ea-be37-12c28480d231\" target=\"_blank\" >here</a>"
      ],
      "text/plain": [
       "<IPython.core.display.HTML object>"
      ]
     },
     "metadata": {},
     "output_type": "display_data"
    }
   ],
   "source": [
    "upload_to_s3(\n",
    "    destination=f\"s3://{BUCKET_NAME}/{BUILD_CONTEXT}\",\n",
    "    ignorefile='components/kaniko/ignorefile.txt',\n",
    "    workspace='.',\n",
    "    s3_client=s3,\n",
    ")\n",
    "\n",
    "run = client.run_pipeline(\n",
    "    exp.id, f'Build image: application:{TAG}', 'argo-kaniko.yaml', \n",
    "    params={\n",
    "      'image': FLASK_APP_IMAGE,\n",
    "      'context': f\"{MOUNT_PATH}/{BUILD_CONTEXT}/components/flaskapp\"\n",
    "    }\n",
    ")"
   ]
  },
  {
   "cell_type": "code",
   "execution_count": 20,
   "metadata": {
    "ExecuteTime": {
     "end_time": "2019-12-23T20:25:04.606378Z",
     "start_time": "2019-12-23T20:24:59.525898Z"
    }
   },
   "outputs": [
    {
     "name": "stdout",
     "output_type": "stream",
     "text": [
      "Waiting for run: c8c52ae4-25c1-11ea-be37-12c28480d231...\n",
      "Finished with: Succeeded\n",
      "CPU times: user 6.71 ms, sys: 1.69 ms, total: 8.4 ms\n",
      "Wall time: 5.01 s\n"
     ]
    }
   ],
   "source": [
    "%%time\n",
    "# block until job completion\n",
    "print(f\"Waiting for run: {run.id}...\")\n",
    "result = client.wait_for_run_completion(run.id, timeout=720).run.status\n",
    "print(f\"Finished with: {result}\")"
   ]
  },
  {
   "cell_type": "markdown",
   "metadata": {},
   "source": [
    "### Deploy a web application\n",
    "\n",
    "Client web application is a simple Python [flask](http://flask.pocoo.org) application. Deployment manifest can be defined via kubernetes deployment template file [link](components/flaskapp/templates/application.yaml). We render this template with current notebook global variables and then use `kubectl` to deploy.\n",
    "\n",
    "For web access application deployment will use an Ambassador http router, which is part of Kubeflow stack"
   ]
  },
  {
   "cell_type": "code",
   "execution_count": 21,
   "metadata": {
    "ExecuteTime": {
     "end_time": "2019-12-23T20:33:15.332787Z",
     "start_time": "2019-12-23T20:33:14.003638Z"
    }
   },
   "outputs": [
    {
     "data": {
      "text/html": [
       "<a href='application.yaml' target='_blank'>application.yaml</a><br>"
      ],
      "text/plain": [
       "/home/jovyan/.git-sync/rev-e8b61b209e9955f82bc16181d2f21ce530cbb0ca/application.yaml"
      ]
     },
     "metadata": {},
     "output_type": "display_data"
    },
    {
     "name": "stdout",
     "output_type": "stream",
     "text": [
      "service/ghsumm6-flask created\r\n",
      "deployment.extensions/ghsumm6-flask created\r\n"
     ]
    },
    {
     "data": {
      "text/html": [
       "Application can be accessible <a href=\"/ghsumm6/\" target=\"_blank\">here</a>"
      ],
      "text/plain": [
       "<IPython.core.display.HTML object>"
      ]
     },
     "metadata": {},
     "output_type": "display_data"
    }
   ],
   "source": [
    "%templatefile components/flaskapp/templates/application.yaml -o application.yaml\n",
    "!kubectl apply -f application.yaml --wait\n",
    "\n",
    "from IPython.display import Markdown, HTML\n",
    "display(HTML(f'Application can be accessible <a href=\"/{FLASK_APP}/\" target=\"_blank\">here</a>'))"
   ]
  },
  {
   "cell_type": "markdown",
   "metadata": {},
   "source": [
    "## Tear down\n",
    "\n",
    "Uppon completion, let's tear everything down"
   ]
  },
  {
   "cell_type": "code",
   "execution_count": null,
   "metadata": {},
   "outputs": [],
   "source": [
    "# !kubectl delete -f seldon.yaml\n",
    "!kubectl delete -f application.yaml"
   ]
  }
 ],
 "metadata": {
  "kernelspec": {
   "display_name": "Python 3",
   "language": "python",
   "name": "python3"
  },
  "language_info": {
   "codemirror_mode": {
    "name": "ipython",
    "version": 3
   },
   "file_extension": ".py",
   "mimetype": "text/x-python",
   "name": "python",
   "nbconvert_exporter": "python",
   "pygments_lexer": "ipython3",
   "version": "3.6.7"
  },
  "toc": {
   "base_numbering": 1,
   "nav_menu": {},
   "number_sections": true,
   "sideBar": true,
   "skip_h1_title": true,
   "title_cell": "Table of Contents",
   "title_sidebar": "Contents",
   "toc_cell": false,
   "toc_position": {
    "height": "calc(100% - 180px)",
    "left": "10px",
    "top": "150px",
    "width": "336px"
   },
   "toc_section_display": true,
   "toc_window_display": true
  },
  "varInspector": {
   "cols": {
    "lenName": 16,
    "lenType": 16,
    "lenVar": 40
   },
   "kernels_config": {
    "python": {
     "delete_cmd_postfix": "",
     "delete_cmd_prefix": "del ",
     "library": "var_list.py",
     "varRefreshCmd": "print(var_dic_list())"
    },
    "r": {
     "delete_cmd_postfix": ") ",
     "delete_cmd_prefix": "rm(",
     "library": "var_list.r",
     "varRefreshCmd": "cat(var_dic_list()) "
    }
   },
   "oldHeight": 201,
   "position": {
    "height": "223px",
    "left": "1208px",
    "right": "20px",
    "top": "262px",
    "width": "400px"
   },
   "types_to_exclude": [
    "module",
    "function",
    "builtin_function_or_method",
    "instance",
    "_Feature"
   ],
   "varInspector_section_display": "block",
   "window_display": true
  }
 },
 "nbformat": 4,
 "nbformat_minor": 2
}
